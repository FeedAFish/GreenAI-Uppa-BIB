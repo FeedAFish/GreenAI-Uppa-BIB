{
 "cells": [
  {
   "cell_type": "code",
   "execution_count": 2,
   "metadata": {},
   "outputs": [],
   "source": [
    "!rm -f \"./Data/tweets_prec.txt\"\n",
    "!cat \"./Data/tweets.txt\" | sed -e \"s/\\([.\\!?,'/()]\\)/ \\1 /g\" | tr \"[:upper:]\" \"[:lower:]\" > \"./Data/tweets_prec.txt\""
   ]
  },
  {
   "cell_type": "code",
   "execution_count": 1,
   "metadata": {},
   "outputs": [
    {
     "name": "stderr",
     "output_type": "stream",
     "text": [
      "Read 64M words\n",
      "Number of words:  665244\n",
      "Number of labels: 466013\n",
      "Progress:   0.3% words/sec/thread:    2642 lr:  0.099651 avg.loss: 408.009674 ETA:   9h37m51ssss"
     ]
    }
   ],
   "source": [
    "import fasttext\n",
    "model = fasttext.train_supervised(input=\"./Data/tweets_prec.txt\", lr=0.1, epoch=10, wordNgrams=2, bucket=2000, dim=10, loss='ova')"
   ]
  },
  {
   "cell_type": "code",
   "execution_count": null,
   "metadata": {},
   "outputs": [],
   "source": []
  }
 ],
 "metadata": {
  "kernelspec": {
   "display_name": "Python 3.10.8 ('pau-ai')",
   "language": "python",
   "name": "python3"
  },
  "language_info": {
   "codemirror_mode": {
    "name": "ipython",
    "version": 3
   },
   "file_extension": ".py",
   "mimetype": "text/x-python",
   "name": "python",
   "nbconvert_exporter": "python",
   "pygments_lexer": "ipython3",
   "version": "3.10.8"
  },
  "orig_nbformat": 4,
  "vscode": {
   "interpreter": {
    "hash": "4fc7e569573848f7c60fff55351f8dbd29e5e3cb20cfd79a4647fb932dc4458e"
   }
  }
 },
 "nbformat": 4,
 "nbformat_minor": 2
}
