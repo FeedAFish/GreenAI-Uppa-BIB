{
  "cells": [
    {
      "cell_type": "code",
      "execution_count": 1,
      "metadata": {
        "id": "HSS07nDpSU7R",
        "outputId": "967079cf-798b-4ca6-c02d-c60e2aa82c06"
      },
      "outputs": [],
      "source": [
        "import pandas as pd\n",
        "data = pd.read_json(\"./datachallenge_starterpack/contents.json\")\n",
        "data['tags']=data.explode('contents')[1::2]['contents']\n",
        "data['contents']=data.explode('contents')[::2]['contents']\n",
        "data = data.drop(['n'],axis=1)"
      ]
    },
    {
      "cell_type": "code",
      "execution_count": 2,
      "metadata": {
        "id": "jdxh0_lESU7S"
      },
      "outputs": [],
      "source": [
        "data['label'] = data['tags'].agg(lambda x: '__label__' + ',__label__'.join(map(str, x)))\n",
        "data['label'] = data['label'].replace(' ','-',regex=True)\n",
        "data['label'] = data['label'].replace(',',' ',regex=True)\n",
        "data = data.drop(['tags'],axis =1)\n",
        "data = data[['label','contents']]"
      ]
    },
    {
      "cell_type": "code",
      "execution_count": 3,
      "metadata": {
        "id": "DvPweQIaSU7T"
      },
      "outputs": [],
      "source": [
        "data['contents']=data['contents'].replace(r'\\r+|\\n+|\\t+',' ', regex=True)\n",
        "data['label']=data['label'].apply(str.lower)\n",
        "data['contents']=data['contents'].apply(str.lower)"
      ]
    },
    {
      "cell_type": "code",
      "execution_count": 4,
      "metadata": {
        "id": "nbznXjIVSU7V"
      },
      "outputs": [],
      "source": [
        "import json\n",
        "output_folder = \"./F/\"\n",
        "text_users = json.load(open(output_folder + \"users_and_text.json\"))\n",
        "comm_and_leaders = json.load(open(output_folder + \"communities.json\"))\n",
        "leaders = comm_and_leaders[\"leaders\"]\n",
        "coms = comm_and_leaders[\"communities\"]"
      ]
    },
    {
      "cell_type": "code",
      "execution_count": 5,
      "metadata": {
        "id": "4WFQq2DaSU7W",
        "outputId": "b5bc1646-8a62-49af-ecfa-cd3762ebb492"
      },
      "outputs": [
        {
          "data": {
            "text/html": [
              "<div>\n",
              "<style scoped>\n",
              "    .dataframe tbody tr th:only-of-type {\n",
              "        vertical-align: middle;\n",
              "    }\n",
              "\n",
              "    .dataframe tbody tr th {\n",
              "        vertical-align: top;\n",
              "    }\n",
              "\n",
              "    .dataframe thead th {\n",
              "        text-align: right;\n",
              "    }\n",
              "</style>\n",
              "<table border=\"1\" class=\"dataframe\">\n",
              "  <thead>\n",
              "    <tr style=\"text-align: right;\">\n",
              "      <th></th>\n",
              "      <th>text</th>\n",
              "      <th>text_root</th>\n",
              "    </tr>\n",
              "  </thead>\n",
              "  <tbody>\n",
              "    <tr>\n",
              "      <th>0</th>\n",
              "      <td>[empreindre, climat, mesure]</td>\n",
              "      <td>Voilà mon empreinte climat. Mesure la tienne !...</td>\n",
              "    </tr>\n",
              "    <tr>\n",
              "      <th>3</th>\n",
              "      <td>[audience, crucial, climat, conservateur, cour...</td>\n",
              "      <td>Audience cruciale pour le climat devant la trè...</td>\n",
              "    </tr>\n",
              "    <tr>\n",
              "      <th>5</th>\n",
              "      <td>[journéemondialedestoilette, blaguer, journée,...</td>\n",
              "      <td>C'est la #JournéeMondialeDesToilettes ??!!? Sa...</td>\n",
              "    </tr>\n",
              "    <tr>\n",
              "      <th>6</th>\n",
              "      <td>[@senek99, @AvatarNeuronal, @Topper_Fr, Rempla...</td>\n",
              "      <td>@Senek99 @AvatarNeuronal @Topper_Fr Remplacer ...</td>\n",
              "    </tr>\n",
              "    <tr>\n",
              "      <th>7</th>\n",
              "      <td>[@jonathanlamoni3, @teissir, @albinwagener, ré...</td>\n",
              "      <td>@JonathanLamoni3 @teissir_ @albinwagener Même ...</td>\n",
              "    </tr>\n",
              "    <tr>\n",
              "      <th>...</th>\n",
              "      <td>...</td>\n",
              "      <td>...</td>\n",
              "    </tr>\n",
              "    <tr>\n",
              "      <th>1605833</th>\n",
              "      <td>[ruban, rouge, criminalisation, activiste, cli...</td>\n",
              "      <td>Derrière le ruban rouge, la criminalisation de...</td>\n",
              "    </tr>\n",
              "    <tr>\n",
              "      <th>1605834</th>\n",
              "      <td>[timidité, arbre, communiquer, plante,  , @fra...</td>\n",
              "      <td>Timidité des arbres : comment communiquent les...</td>\n",
              "    </tr>\n",
              "    <tr>\n",
              "      <th>1605835</th>\n",
              "      <td>[beau, site, histoire, colorer, morne, environ...</td>\n",
              "      <td>Un très beau site, histoire de colorer un peu ...</td>\n",
              "    </tr>\n",
              "    <tr>\n",
              "      <th>1605836</th>\n",
              "      <td>[venir, signer, appel, ➕, place, climat, débat...</td>\n",
              "      <td>Je viens de signer l'appel pour ➕ de place pou...</td>\n",
              "    </tr>\n",
              "    <tr>\n",
              "      <th>1605837</th>\n",
              "      <td>[convention, entreprise, climat, 12, entrepris...</td>\n",
              "      <td>Convention des Entreprises pour le Climat : 12...</td>\n",
              "    </tr>\n",
              "  </tbody>\n",
              "</table>\n",
              "<p>1602717 rows × 2 columns</p>\n",
              "</div>"
            ],
            "text/plain": [
              "                                                      text  \\\n",
              "0                             [empreindre, climat, mesure]   \n",
              "3        [audience, crucial, climat, conservateur, cour...   \n",
              "5        [journéemondialedestoilette, blaguer, journée,...   \n",
              "6        [@senek99, @AvatarNeuronal, @Topper_Fr, Rempla...   \n",
              "7        [@jonathanlamoni3, @teissir, @albinwagener, ré...   \n",
              "...                                                    ...   \n",
              "1605833  [ruban, rouge, criminalisation, activiste, cli...   \n",
              "1605834  [timidité, arbre, communiquer, plante,  , @fra...   \n",
              "1605835  [beau, site, histoire, colorer, morne, environ...   \n",
              "1605836  [venir, signer, appel, ➕, place, climat, débat...   \n",
              "1605837  [convention, entreprise, climat, 12, entrepris...   \n",
              "\n",
              "                                                 text_root  \n",
              "0        Voilà mon empreinte climat. Mesure la tienne !...  \n",
              "3        Audience cruciale pour le climat devant la trè...  \n",
              "5        C'est la #JournéeMondialeDesToilettes ??!!? Sa...  \n",
              "6        @Senek99 @AvatarNeuronal @Topper_Fr Remplacer ...  \n",
              "7        @JonathanLamoni3 @teissir_ @albinwagener Même ...  \n",
              "...                                                    ...  \n",
              "1605833  Derrière le ruban rouge, la criminalisation de...  \n",
              "1605834  Timidité des arbres : comment communiquent les...  \n",
              "1605835  Un très beau site, histoire de colorer un peu ...  \n",
              "1605836  Je viens de signer l'appel pour ➕ de place pou...  \n",
              "1605837  Convention des Entreprises pour le Climat : 12...  \n",
              "\n",
              "[1602717 rows x 2 columns]"
            ]
          },
          "execution_count": 5,
          "metadata": {},
          "output_type": "execute_result"
        }
      ],
      "source": [
        "def flatten(l):\n",
        "    return [item for sublist in l for item in sublist]\n",
        "a = pd.read_json(output_folder + \"users_and_text.json\")\n",
        "a = a.T\n",
        "a = a.apply(flatten)\n",
        "a = a[a['text'].map(lambda d: len(d)) > 0]\n",
        "a\n"
      ]
    },
    {
      "cell_type": "code",
      "execution_count": 6,
      "metadata": {},
      "outputs": [],
      "source": [
        "import re\n",
        "def remo(text):\n",
        "    X = [\"@\",\"#\"]\n",
        "    res = ''.join([i for i in text if not i in X])\n",
        "    return res\n",
        "def remove_emoji(string):\n",
        "    emoji_pattern = re.compile(\"[\"\n",
        "                               u\"\\U0001F600-\\U0001F64F\"  # emoticons\n",
        "                               u\"\\U0001F300-\\U0001F5FF\"  # symbols & pictographs\n",
        "                               u\"\\U0001F680-\\U0001F6FF\"  # transport & map symbols\n",
        "                               u\"\\U0001F1E0-\\U0001F1FF\"  # flags (iOS)\n",
        "                               u\"\\U00002500-\\U00002BEF\"  # chinese char\n",
        "                               u\"\\U00002702-\\U000027B0\"\n",
        "                               u\"\\U00002702-\\U000027B0\"\n",
        "                               u\"\\U000024C2-\\U0001F251\"\n",
        "                               u\"\\U0001f926-\\U0001f937\"\n",
        "                               u\"\\U00010000-\\U0010ffff\"\n",
        "                               u\"\\u2640-\\u2642\"\n",
        "                               u\"\\u2600-\\u2B55\"\n",
        "                               u\"\\u200d\"\n",
        "                               u\"\\u23cf\"\n",
        "                               u\"\\u23e9\"\n",
        "                               u\"\\u231a\"\n",
        "                               u\"\\ufe0f\"  # dingbats\n",
        "                               u\"\\u3030\"\n",
        "                               \"]+\", flags=re.UNICODE)\n",
        "    res = re.sub(r'\\w+:\\/{2}[\\d\\w-]+(\\.[\\d\\w-]+)*(?:(?:\\/[^\\s/]*))*', '', emoji_pattern.sub(r'', string))\n",
        "    res = ''.join([i for i in res if not i.isdigit()])\n",
        "    res = res.lower()\n",
        "    res = remo(res)\n",
        "    return res\n",
        "def spaceremove(text):\n",
        "    res = [sub.replace(' ', '-') for sub in text]\n",
        "    res = [sub.replace('_', '-') for sub in res]\n",
        "    return res"
      ]
    },
    {
      "cell_type": "code",
      "execution_count": 8,
      "metadata": {},
      "outputs": [],
      "source": [
        "a['text']=a['text'].apply(spaceremove).agg(lambda x: ' '.join(map(str, x))).apply(remove_emoji).str.split()\n",
        "a['text_root'] = a['text_root'].apply(remove_emoji)\n",
        "a['label'] = a['text'].agg(lambda x: '__label__' + ' __label__'.join(map(str, x)))\n",
        "a = a.drop(['text'],axis =1)\n",
        "a = a[['label','text_root']]\n",
        "a['text_root']=a['text_root'].replace(r'\\r+|\\n+|\\t+',' ', regex=True)"
      ]
    },
    {
      "cell_type": "code",
      "execution_count": 9,
      "metadata": {},
      "outputs": [],
      "source": [
        "!mkdir -p './Data'\n",
        "import numpy as np\n",
        "np.savetxt('./Data/tweets.txt', a.values, fmt = \"%s\")\n",
        "np.savetxt('./Data/contents.txt', data.values, fmt = \"%s\")"
      ]
    },
    {
      "cell_type": "code",
      "execution_count": null,
      "metadata": {},
      "outputs": [],
      "source": []
    }
  ],
  "metadata": {
    "colab": {
      "provenance": []
    },
    "kernelspec": {
      "display_name": "Python 3.10.8 ('pau-ai')",
      "language": "python",
      "name": "python3"
    },
    "language_info": {
      "codemirror_mode": {
        "name": "ipython",
        "version": 3
      },
      "file_extension": ".py",
      "mimetype": "text/x-python",
      "name": "python",
      "nbconvert_exporter": "python",
      "pygments_lexer": "ipython3",
      "version": "3.10.8"
    },
    "orig_nbformat": 4,
    "vscode": {
      "interpreter": {
        "hash": "4fc7e569573848f7c60fff55351f8dbd29e5e3cb20cfd79a4647fb932dc4458e"
      }
    }
  },
  "nbformat": 4,
  "nbformat_minor": 0
}
